{
 "cells": [
  {
   "attachments": {},
   "cell_type": "markdown",
   "metadata": {},
   "source": [
    "# Graph Data Structure\n",
    "> Overview of the Graph Data Structure.  \n",
    "\n",
    "- toc: true\n",
    "- categories: []\n",
    "- image: /images/java-icon.png\n",
    "- type: ap\n",
    "- week: 34"
   ]
  },
  {
   "attachments": {},
   "cell_type": "markdown",
   "metadata": {},
   "source": [
    "## Terms\n",
    "Node, Vertices, Edge, Adjacency, Weighted, Directed, Breadth, Depth\n"
   ]
  },
  {
   "attachments": {},
   "cell_type": "markdown",
   "metadata": {},
   "source": [
    "## Supporting Data Structures\n",
    "Class, List, Stack, Queue"
   ]
  }
 ],
 "metadata": {
  "kernelspec": {
   "display_name": "Java",
   "language": "java",
   "name": "java"
  },
  "language_info": {
   "name": "java"
  },
  "orig_nbformat": 4
 },
 "nbformat": 4,
 "nbformat_minor": 2
}
